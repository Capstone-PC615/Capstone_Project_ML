{
  "nbformat": 4,
  "nbformat_minor": 0,
  "metadata": {
    "colab": {
      "provenance": [],
      "gpuType": "T4",
      "toc_visible": true,
      "include_colab_link": true
    },
    "kernelspec": {
      "name": "python3",
      "display_name": "Python 3"
    },
    "language_info": {
      "name": "python"
    },
    "accelerator": "GPU"
  },
  "cells": [
    {
      "cell_type": "markdown",
      "metadata": {
        "id": "view-in-github",
        "colab_type": "text"
      },
      "source": [
        "<a href=\"https://colab.research.google.com/github/HandersThe/Capstone_Project_ML/blob/master/ProjectCapstone_rev_1.ipynb\" target=\"_parent\"><img src=\"https://colab.research.google.com/assets/colab-badge.svg\" alt=\"Open In Colab\"/></a>"
      ]
    },
    {
      "cell_type": "code",
      "execution_count": null,
      "metadata": {
        "id": "YwOjFPoUNWIu"
      },
      "outputs": [],
      "source": [
        "#Import\n",
        "import tensorflow as tf\n",
        "from tensorflow.keras.layers.experimental import preprocessing\n",
        "from tensorflow.keras import layers\n",
        "from tensorflow.keras.preprocessing.image import ImageDataGenerator\n",
        "from tensorflow.keras.applications import EfficientNetV2B0"
      ]
    },
    {
      "cell_type": "code",
      "source": [
        "#Install kaggle\n",
        "!pip install -q kaggle\n",
        "\n",
        "#Upload kaggle api\n",
        "from google.colab import files\n",
        "files.upload()"
      ],
      "metadata": {
        "id": "QkHkvdGzNcGH"
      },
      "execution_count": null,
      "outputs": []
    },
    {
      "cell_type": "code",
      "source": [
        "#Create directory for kaggle\n",
        "!mkdir ~/.kaggle\n",
        "!cp kaggle.json ~/.kaggle/\n",
        "!chmod 600 ~/.kaggle/kaggle.json\n",
        "\n",
        "#Download dataset and unzip\n",
        "!kaggle datasets download -d techsash/waste-classification-data\n",
        "!unzip waste-classification-data.zip"
      ],
      "metadata": {
        "id": "SNZS9BTrNr7b"
      },
      "execution_count": null,
      "outputs": []
    },
    {
      "cell_type": "code",
      "source": [
        "#The number of output classes\n",
        "NUM_CLASSES = 2\n",
        "\n",
        "#Directory path\n",
        "train_path = \"dataset/DATASET/TRAIN/\"\n",
        "valid_path = \"dataset/DATASET/TEST/\"\n",
        "\n",
        "#Training epochs\n",
        "epochs = 50\n",
        "\n",
        "#Directory path for saving model\n",
        "model_save_location = \"Model/EfficientNetV2\""
      ],
      "metadata": {
        "id": "h6Zna0YYO3UZ"
      },
      "execution_count": null,
      "outputs": []
    },
    {
      "cell_type": "code",
      "source": [
        "#Augmentation\n",
        "img_augmentation = tf.keras.models.Sequential(\n",
        "    [\n",
        "        preprocessing.RandomRotation(factor=0.15),\n",
        "        preprocessing.RandomTranslation(height_factor=0.1, width_factor=0.1),\n",
        "        preprocessing.RandomFlip(),\n",
        "        preprocessing.RandomContrast(factor=0.1),\n",
        "    ],\n",
        "    name=\"img_augmentation\",\n",
        ")\n",
        "\n",
        "#Build model function\n",
        "def build_model(NUM_CLASSES):\n",
        "    inputs = layers.Input(shape=(224, 224, 3))\n",
        "    x = img_augmentation(inputs)\n",
        "\n",
        "    #Using the imported version of EfficientNet\n",
        "    model = EfficientNetV2B0(include_top=False, input_tensor=x, weights=\"imagenet\")\n",
        "\n",
        "    #Freeze the pretrained weights\n",
        "    model.trainable = False\n",
        "\n",
        "    #Rebuild top\n",
        "    x = layers.GlobalAveragePooling2D(name=\"avg_pool\")(model.output)\n",
        "    x = layers.BatchNormalization()(x)\n",
        "\n",
        "    top_dropout_rate = 0.2\n",
        "    x = layers.Dropout(top_dropout_rate, name=\"top_dropout\")(x)\n",
        "    outputs = layers.Dense(NUM_CLASSES, activation=\"linear\", name=\"pred\")(x)\n",
        "\n",
        "    #Compile\n",
        "    model = tf.keras.Model(inputs, outputs, name=\"EfficientNet\")\n",
        "    optimizer = \"adam\"\n",
        "    loss = tf.keras.losses.CategoricalCrossentropy(from_logits=True)\n",
        "    model.compile(\n",
        "        optimizer=optimizer, loss=loss, metrics=[\"accuracy\"]\n",
        "    )\n",
        "    return model\n",
        "\n",
        "def unfreeze_model(model):\n",
        "  #Unfreeze the top 20 layers while leaving BatchNorm layers frozen\n",
        "    for layer in model.layers[-20:]:\n",
        "        if not isinstance(layer, layers.BatchNormalization):\n",
        "            layer.trainable = True\n",
        "\n",
        "    optimizer = tf.keras.optimizers.Adam(learning_rate=1e-4)\n",
        "    loss = tf.keras.losses.CategoricalCrossentropy(from_logits=True)\n",
        "    model.compile(\n",
        "          optimizer=optimizer, loss=loss, metrics=[\"accuracy\"]\n",
        "    )"
      ],
      "metadata": {
        "id": "F5gySD0JPNTz"
      },
      "execution_count": null,
      "outputs": []
    },
    {
      "cell_type": "code",
      "source": [
        "#Callback\n",
        "class myCallback(tf.keras.callbacks.Callback):\n",
        "      def on_epoch_end(self,epoch,logs={}):\n",
        "        if((logs.get('accuracy')>0.95) and (logs.get('val_accuracy')>0.93)):\n",
        "          self.model.stop_training = True"
      ],
      "metadata": {
        "id": "ZtaIz7-3aKFY"
      },
      "execution_count": null,
      "outputs": []
    },
    {
      "cell_type": "code",
      "source": [
        "model = build_model(NUM_CLASSES)\n",
        "unfreeze_model(model)\n",
        "\n",
        "train_batches = ImageDataGenerator(preprocessing_function=tf.keras.applications.efficientnet.preprocess_input).flow_from_directory(\n",
        "    directory=train_path, target_size=(224,224), batch_size=32)\n",
        "valid_batches = ImageDataGenerator(preprocessing_function=tf.keras.applications.efficientnet.preprocess_input).flow_from_directory(\n",
        "    directory=valid_path, target_size=(224,224), batch_size=32)\n",
        "\n",
        "_ = model.fit(train_batches, epochs=epochs, validation_data=valid_batches, verbose=2, callbacks=myCallback())"
      ],
      "metadata": {
        "id": "m9og3_BYQXLd"
      },
      "execution_count": null,
      "outputs": []
    },
    {
      "cell_type": "code",
      "source": [
        "#For testing (need additional test set)\n",
        "test_path = \"\"\n",
        "\n",
        "#You can try testing againts validation set by changing the directory to valid_path\n",
        "test_batches = ImageDataGenerator(preprocessing_function=tf.keras.applications.efficientnet.preprocess_input).flow_from_directory(\n",
        "    directory=test_path, target_size=(224,224), batch_size=32, shuffle=False)\n",
        "\n",
        "test_labels = test_batches.classes\n",
        "print(\"Test Labels\",test_labels)\n",
        "print(test_batches.class_indices)\n",
        "\n",
        "predictions = model.predict(test_batches,steps=len(test_batches),verbose=0)\n",
        "\n",
        "acc = 0\n",
        "for i in range(len(test_labels)):\n",
        "    actual_class = test_labels[i]\n",
        "    if predictions[i][actual_class] > 0.5 : \n",
        "        acc += 1\n",
        "print(\"Accuracy:\",(acc/len(test_labels))*100,\"%\")"
      ],
      "metadata": {
        "id": "oPARMmmtp6_4",
        "collapsed": true
      },
      "execution_count": null,
      "outputs": []
    },
    {
      "cell_type": "code",
      "source": [
        "#Save the model\n",
        "model.save(model_save_location)"
      ],
      "metadata": {
        "id": "_iaVhZqvenuL"
      },
      "execution_count": null,
      "outputs": []
    },
    {
      "cell_type": "code",
      "source": [
        "#Converting to TF Lite\n",
        "converter = tf.lite.TFLiteConverter.from_saved_model(model_save_location)\n",
        "converter.optimizations = [tf.lite.Optimize.DEFAULT]\n",
        "tflite_quant_model = converter.convert()\n",
        "\n",
        "#Writing TF Lite model\n",
        "with open(\"model.tflite\", \"wb\") as f:\n",
        "    f.write(tflite_quant_model)"
      ],
      "metadata": {
        "id": "lY13if_Xe6qj"
      },
      "execution_count": null,
      "outputs": []
    },
    {
      "cell_type": "code",
      "source": [
        "#Download Model\n",
        "!zip -r Model.zip /content/Model/EfficientNetV2"
      ],
      "metadata": {
        "id": "9fef4Rt690gn"
      },
      "execution_count": null,
      "outputs": []
    }
  ]
}