{
  "nbformat": 4,
  "nbformat_minor": 0,
  "metadata": {
    "colab": {
      "provenance": [],
      "gpuType": "T4"
    },
    "kernelspec": {
      "name": "python3",
      "display_name": "Python 3"
    },
    "language_info": {
      "name": "python"
    },
    "accelerator": "GPU",
    "gpuClass": "standard"
  },
  "cells": [
    {
      "cell_type": "code",
      "execution_count": null,
      "metadata": {
        "id": "X5OVeiBGFhV4"
      },
      "outputs": [],
      "source": [
        "#Import\n",
        "import numpy as np\n",
        "\n",
        "import tensorflow as tf\n",
        "from tensorflow.keras.preprocessing.image import ImageDataGenerator\n",
        "\n",
        "import os"
      ]
    },
    {
      "cell_type": "code",
      "source": [
        "#kaggle\n",
        "!pip install -q kaggle"
      ],
      "metadata": {
        "id": "FNKYM3eTF9nI"
      },
      "execution_count": null,
      "outputs": []
    },
    {
      "cell_type": "code",
      "source": [
        "#Upload kaggle api\n",
        "from google.colab import files\n",
        "files.upload()"
      ],
      "metadata": {
        "id": "TuOjidSOGGL6"
      },
      "execution_count": null,
      "outputs": []
    },
    {
      "cell_type": "code",
      "source": [
        "#Create directory\n",
        "!mkdir ~/.kaggle\n",
        "!cp kaggle.json ~/.kaggle/\n",
        "!chmod 600 ~/.kaggle/kaggle.json"
      ],
      "metadata": {
        "id": "UL2BlfYJGL0Y"
      },
      "execution_count": null,
      "outputs": []
    },
    {
      "cell_type": "code",
      "source": [
        "#Download dataset and unzip\n",
        "!kaggle datasets download -d techsash/waste-classification-data\n",
        "!unzip waste-classification-data.zip"
      ],
      "metadata": {
        "id": "Lftjz8g6GfYE"
      },
      "execution_count": null,
      "outputs": []
    },
    {
      "cell_type": "code",
      "source": [
        "#Set train and test directory\n",
        "base_dir=\"/content/DATASET\"\n",
        "train_dir=os.path.join(base_dir,\"TRAIN\")\n",
        "test_dir=os.path.join(base_dir,\"TEST\")"
      ],
      "metadata": {
        "id": "_Jm7W-EkGhpj"
      },
      "execution_count": null,
      "outputs": []
    },
    {
      "cell_type": "code",
      "source": [
        "#Prepare dataset\n",
        "train_datagen=ImageDataGenerator(rescale=1./255,\n",
        "                                 shear_range=0.1,\n",
        "                                 zoom_range=0.1,\n",
        "                                 horizontal_flip=True)\n",
        "\n",
        "validation_datagen=ImageDataGenerator(rescale=1./255)\n",
        "\n",
        "train_generator=train_datagen.flow_from_directory(train_dir,\n",
        "                                                  target_size=(150,150),\n",
        "                                                  batch_size=64,\n",
        "                                                  class_mode='binary')\n",
        "\n",
        "validation_generator=validation_datagen.flow_from_directory(test_dir,\n",
        "                                                            target_size=(150,150),\n",
        "                                                            batch_size=64,\n",
        "                                                            class_mode='binary')"
      ],
      "metadata": {
        "id": "UDR_CVJtKOhW"
      },
      "execution_count": null,
      "outputs": []
    },
    {
      "cell_type": "code",
      "source": [
        "#Model\n",
        "#Aku ganti last layer pake softmax sama nambah Conv2D+MaxPooling2D satu\n",
        "model = tf.keras.models.Sequential([\n",
        "        tf.keras.layers.Conv2D(32, 3, activation='relu', input_shape=(150,150,3)),\n",
        "        tf.keras.layers.MaxPooling2D(),\n",
        "        tf.keras.layers.Conv2D(32, 3, activation='relu'),\n",
        "        tf.keras.layers.MaxPooling2D(),\n",
        "        tf.keras.layers.Conv2D(32, 3, activation='relu'),\n",
        "        tf.keras.layers.MaxPooling2D(),\n",
        "        tf.keras.layers.Flatten(),\n",
        "        tf.keras.layers.Dense(128, activation='relu'),\n",
        "        tf.keras.layers.Dropout(0.2),\n",
        "        tf.keras.layers.Dense(2)\n",
        "    ])"
      ],
      "metadata": {
        "id": "xvBxFXHwK0mL"
      },
      "execution_count": null,
      "outputs": []
    },
    {
      "cell_type": "code",
      "source": [
        "#Callback dengan akurasi 85 persen\n",
        "class myCallback(tf.keras.callbacks.Callback):\n",
        "      def on_epoch_end(self,epoch,logs={}):\n",
        "        if((logs.get('accuracy')>0.85) and (logs.get('val_accuracy')>0.85)):\n",
        "          self.model.stop_training = True"
      ],
      "metadata": {
        "id": "S3bQhGZ2LhqH"
      },
      "execution_count": null,
      "outputs": []
    },
    {
      "cell_type": "code",
      "source": [
        "#Train model\n",
        "model.compile(loss=tf.keras.losses.SparseCategoricalCrossentropy(from_logits=True), optimizer=\"adam\", metrics=[\"accuracy\"])\n",
        "model.fit(train_generator,steps_per_epoch=25,epochs=50,validation_data=validation_generator,validation_steps=5,verbose=2,callbacks=myCallback())"
      ],
      "metadata": {
        "id": "NdlclA9NLrgf"
      },
      "execution_count": null,
      "outputs": []
    },
    {
      "cell_type": "code",
      "source": [
        "#Create TFLite model\n",
        "converter = tf.lite.TFLiteConverter.from_keras_model(model)\n",
        "\n",
        "converter.optimizations = [tf.lite.Optimize.DEFAULT]\n",
        "\n",
        "tflite_model = converter.convert()"
      ],
      "metadata": {
        "id": "SCVMNLx8RTLM"
      },
      "execution_count": null,
      "outputs": []
    },
    {
      "cell_type": "code",
      "source": [
        "#Save TFLite model\n",
        "#Download manual di foldernya\n",
        "with open(\"model.tflite\", \"wb\") as f:\n",
        "    f.write(tflite_model)"
      ],
      "metadata": {
        "id": "_NdIkCTBMhoc"
      },
      "execution_count": null,
      "outputs": []
    }
  ]
}